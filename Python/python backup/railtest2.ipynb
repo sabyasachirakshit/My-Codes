{
 "cells": [
  {
   "cell_type": "code",
   "execution_count": 1,
   "metadata": {},
   "outputs": [
    {
     "name": "stdout",
     "output_type": "stream",
     "text": [
      " Train No - 3   6   8   1   1 \n",
      " Train Name - Howrah---Delhi---Express\n",
      " From -    Howrah \n",
      " Via -    Patna \n",
      " To -    Delhi \n",
      " Platform No - 4 \n",
      " Time - 17:20:00\n"
     ]
    }
   ],
   "source": [
    "import pandas as pd\n",
    "def railstatus1(filename):\n",
    "    df = pd.read_excel(filename)\n",
    "    print(f\" Train No - {df.Train[0]} \\n Train Name - {df.Name[0]}\\n From - {df.From[0]} \\n Via - {df.Via[0]} \\n To - {df.To[0]} \\n Platform No - {df.Platform[0]} \\n Time - {df.Time[0]}\")\n",
    "    \n",
    "railstatus1(\"raildata.xlsx\")"
   ]
  },
  {
   "cell_type": "code",
   "execution_count": 2,
   "metadata": {},
   "outputs": [
    {
     "name": "stdout",
     "output_type": "stream",
     "text": [
      " Train No - 1   2   1   3   0 \n",
      " Train Name - Azad---Hind---Express\n",
      " From -    Howrah \n",
      " Via -    Nagpur  \n",
      " To -    Pune \n",
      " Platform No - 1 \n",
      " Time - 21:25:00\n"
     ]
    }
   ],
   "source": [
    "def railstatus2(filename):\n",
    "    df = pd.read_excel(filename)\n",
    "    print(f\" Train No - {df.Train[1]} \\n Train Name - {df.Name[1]}\\n From - {df.From[1]} \\n Via - {df.Via[1]} \\n To - {df.To[1]} \\n Platform No - {df.Platform[1]} \\n Time - {df.Time[1]}\")\n",
    "    \n",
    "railstatus2(\"raildata.xlsx\")"
   ]
  },
  {
   "cell_type": "code",
   "execution_count": 3,
   "metadata": {},
   "outputs": [
    {
     "data": {
      "text/plain": [
       "'Azad---Hind---Express'"
      ]
     },
     "execution_count": 3,
     "metadata": {},
     "output_type": "execute_result"
    }
   ],
   "source": [
    "df = pd.read_excel(\"raildata.xlsx\")\n",
    "df.Name[1]\n",
    "\n"
   ]
  },
  {
   "cell_type": "code",
   "execution_count": 4,
   "metadata": {},
   "outputs": [],
   "source": [
    "import time\n",
    "from datetime import datetime\n",
    "localtime1 = time.asctime(time.localtime(time.time()))\n",
    "now = datetime.now()\n",
    "current_time = now.strftime(\"%H:%M:%S\")"
   ]
  },
  {
   "cell_type": "code",
   "execution_count": 5,
   "metadata": {},
   "outputs": [
    {
     "data": {
      "text/plain": [
       "'17:15:09'"
      ]
     },
     "execution_count": 5,
     "metadata": {},
     "output_type": "execute_result"
    }
   ],
   "source": [
    "current_time"
   ]
  },
  {
   "cell_type": "code",
   "execution_count": 6,
   "metadata": {},
   "outputs": [],
   "source": [
    "Time0=df.Time[0]\n",
    "Time1=df.Time[1]\n",
    "Time0=Time0.strftime(\"%H:%M:%S\")\n",
    "Time1=Time1.strftime(\"%H:%M:%S\")\n",
    "if current_time==Time0:\n",
    "    railstatus1(\"raildata.xlsx\")\n",
    "elif current_time==Time1:\n",
    "    railstatus2(\"raildata.xlsx\")\n",
    "    \n",
    "    \n",
    "    "
   ]
  },
  {
   "cell_type": "code",
   "execution_count": 7,
   "metadata": {},
   "outputs": [
    {
     "data": {
      "text/plain": [
       "'17:20:00'"
      ]
     },
     "execution_count": 7,
     "metadata": {},
     "output_type": "execute_result"
    }
   ],
   "source": [
    "Time0"
   ]
  },
  {
   "cell_type": "code",
   "execution_count": 8,
   "metadata": {},
   "outputs": [
    {
     "data": {
      "text/plain": [
       "'21:25:00'"
      ]
     },
     "execution_count": 8,
     "metadata": {},
     "output_type": "execute_result"
    }
   ],
   "source": [
    "Time1"
   ]
  },
  {
   "cell_type": "code",
   "execution_count": null,
   "metadata": {},
   "outputs": [],
   "source": []
  },
  {
   "cell_type": "code",
   "execution_count": null,
   "metadata": {},
   "outputs": [],
   "source": []
  },
  {
   "cell_type": "code",
   "execution_count": null,
   "metadata": {},
   "outputs": [],
   "source": []
  }
 ],
 "metadata": {
  "kernelspec": {
   "display_name": "Python 3",
   "language": "python",
   "name": "python3"
  },
  "language_info": {
   "codemirror_mode": {
    "name": "ipython",
    "version": 3
   },
   "file_extension": ".py",
   "mimetype": "text/x-python",
   "name": "python",
   "nbconvert_exporter": "python",
   "pygments_lexer": "ipython3",
   "version": "3.7.9"
  }
 },
 "nbformat": 4,
 "nbformat_minor": 4
}
