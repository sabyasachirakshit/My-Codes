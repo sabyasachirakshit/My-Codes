{
 "cells": [
  {
   "cell_type": "code",
   "execution_count": 8,
   "metadata": {},
   "outputs": [
    {
     "data": {
      "text/plain": [
       "0     20:55:00\n",
       "1     22:40:00\n",
       "2     00:24:00\n",
       "3     01:35:00\n",
       "4     02:14:00\n",
       "5     03:20:00\n",
       "6     04:05:00\n",
       "7     04:35:00\n",
       "8     05:50:00\n",
       "9          NaN\n",
       "10         NaN\n",
       "11         NaN\n",
       "12         NaN\n",
       "13         NaN\n",
       "14         NaN\n",
       "15         NaN\n",
       "16         NaN\n",
       "17         NaN\n",
       "18         NaN\n",
       "19         NaN\n",
       "20         NaN\n",
       "21         NaN\n",
       "22         NaN\n",
       "23         NaN\n",
       "24         NaN\n",
       "25         NaN\n",
       "26         NaN\n",
       "27         NaN\n",
       "28         NaN\n",
       "29         NaN\n",
       "30         NaN\n",
       "31         NaN\n",
       "32         NaN\n",
       "33         NaN\n",
       "34         NaN\n",
       "35         NaN\n",
       "36         NaN\n",
       "37         NaN\n",
       "38         NaN\n",
       "39         NaN\n",
       "40         NaN\n",
       "41         NaN\n",
       "42         NaN\n",
       "43         NaN\n",
       "44         NaN\n",
       "45         NaN\n",
       "46         NaN\n",
       "47         NaN\n",
       "48         NaN\n",
       "49         NaN\n",
       "50         NaN\n",
       "51         NaN\n",
       "52         NaN\n",
       "53         NaN\n",
       "54         NaN\n",
       "55         NaN\n",
       "56         NaN\n",
       "57         NaN\n",
       "58         NaN\n",
       "Name: S_Time1, dtype: object"
      ]
     },
     "execution_count": 8,
     "metadata": {},
     "output_type": "execute_result"
    }
   ],
   "source": [
    "import  pandas as pd\n",
    "df = pd.read_excel(\"rail_data2.xlsx\")\n",
    "df.S_Time1"
   ]
  },
  {
   "cell_type": "code",
   "execution_count": null,
   "metadata": {},
   "outputs": [],
   "source": []
  }
 ],
 "metadata": {
  "kernelspec": {
   "display_name": "Python 3",
   "language": "python",
   "name": "python3"
  },
  "language_info": {
   "codemirror_mode": {
    "name": "ipython",
    "version": 3
   },
   "file_extension": ".py",
   "mimetype": "text/x-python",
   "name": "python",
   "nbconvert_exporter": "python",
   "pygments_lexer": "ipython3",
   "version": "3.7.9"
  }
 },
 "nbformat": 4,
 "nbformat_minor": 4
}
